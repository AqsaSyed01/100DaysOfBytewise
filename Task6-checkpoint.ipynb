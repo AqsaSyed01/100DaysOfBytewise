{
 "cells": [
  {
   "cell_type": "code",
   "execution_count": 2,
   "id": "3af1c90a-84d9-4214-9f34-1e139e59e82e",
   "metadata": {},
   "outputs": [],
   "source": [
    "#Exercise 1\n",
    "from sklearn.datasets import load_iris\n",
    "import pandas as pd"
   ]
  },
  {
   "cell_type": "code",
   "execution_count": 3,
   "id": "09d55162-7d82-4820-874b-53ef0d44d7f8",
   "metadata": {},
   "outputs": [],
   "source": [
    "iris = load_iris()"
   ]
  },
  {
   "cell_type": "code",
   "execution_count": 4,
   "id": "df7b3e22-b461-46b9-8172-2087527a6984",
   "metadata": {},
   "outputs": [],
   "source": [
    "# Converting to pandas DataFrame\n",
    "iris_df = pd.DataFrame(data=iris.data, columns=iris.feature_names)"
   ]
  },
  {
   "cell_type": "code",
   "execution_count": 5,
   "id": "2c9b3737-26ea-429e-ba04-f9ab3924dd76",
   "metadata": {},
   "outputs": [
    {
     "name": "stdout",
     "output_type": "stream",
     "text": [
      "   sepal length (cm)  sepal width (cm)  petal length (cm)  petal width (cm)\n",
      "0                5.1               3.5                1.4               0.2\n",
      "1                4.9               3.0                1.4               0.2\n",
      "2                4.7               3.2                1.3               0.2\n",
      "3                4.6               3.1                1.5               0.2\n",
      "4                5.0               3.6                1.4               0.2\n"
     ]
    }
   ],
   "source": [
    "#Printing the first five rows\n",
    "print(iris_df.head())"
   ]
  },
  {
   "cell_type": "code",
   "execution_count": 6,
   "id": "f31b8fac-55b1-410e-97f4-82e7378fdfa3",
   "metadata": {},
   "outputs": [],
   "source": [
    "#Exercise 2\n",
    "def dataset_info(dataset):\n",
    "   \n",
    "    # Number of samples\n",
    "    num_samples = dataset.shape[0]\n",
    "    \n",
    "    # Number of features\n",
    "    num_features = dataset.shape[1]\n",
    "    \n",
    "    return num_samples, num_features"
   ]
  },
  {
   "cell_type": "code",
   "execution_count": 7,
   "id": "8e1dac55-f1cd-4c56-aa25-84a3de035084",
   "metadata": {},
   "outputs": [
    {
     "name": "stdout",
     "output_type": "stream",
     "text": [
      "Number of samples: 150\n",
      "Number of features: 4\n"
     ]
    }
   ],
   "source": [
    "samples, features = dataset_info(iris_df)\n",
    "print(f\"Number of samples: {samples}\")\n",
    "print(f\"Number of features: {features}\")"
   ]
  },
  {
   "cell_type": "code",
   "execution_count": null,
   "id": "0d1a8e8e-1343-43a2-ab19-d04304e6b856",
   "metadata": {},
   "outputs": [],
   "source": [
    "#Exercise 3\n"
   ]
  }
 ],
 "metadata": {
  "kernelspec": {
   "display_name": "Python 3 (ipykernel)",
   "language": "python",
   "name": "python3"
  },
  "language_info": {
   "codemirror_mode": {
    "name": "ipython",
    "version": 3
   },
   "file_extension": ".py",
   "mimetype": "text/x-python",
   "name": "python",
   "nbconvert_exporter": "python",
   "pygments_lexer": "ipython3",
   "version": "3.12.4"
  }
 },
 "nbformat": 4,
 "nbformat_minor": 5
}
